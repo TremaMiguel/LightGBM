{
 "cells": [
  {
   "cell_type": "markdown",
   "id": "27ca69ed",
   "metadata": {},
   "source": [
    "1. Install cmake: `conda install -c anaconda cmake -y`\n",
    "2. Install setup: `python setup.py install`\n",
    "\n",
    "\n",
    "At the end\n",
    "\n",
    "```python\n",
    "# Install linters\n",
    "pip install pydocstyle pycodestyle pytest\n",
    "\n",
    "# Check tests\n",
    "pytest -v tests/python_package_test/test_engine.py\n",
    "\n",
    "# Check linters\n",
    "pycodestyle --ignore=E501,W503 python-package/lightgbm/basic.py\n",
    "pycodestyle --ignore=E501,W503 tests/python_package_test/test_engine.py\n",
    "pydocstyle --convention=numpy --add-ignore=D105 python-package/lightgbm/basic.py\n",
    "```"
   ]
  },
  {
   "cell_type": "code",
   "execution_count": 1,
   "id": "0c6202e3",
   "metadata": {},
   "outputs": [],
   "source": [
    "from sklearn.datasets import load_breast_cancer\n",
    "from sklearn.metrics import log_loss\n",
    "\n",
    "import lightgbm as lgb\n",
    "import numpy as np"
   ]
  },
  {
   "cell_type": "code",
   "execution_count": 15,
   "id": "023569fd",
   "metadata": {},
   "outputs": [
    {
     "name": "stdout",
     "output_type": "stream",
     "text": [
      "3.3.1.99\n"
     ]
    }
   ],
   "source": [
    "from lightgbm import __version__\n",
    "\n",
    "print(__version__)"
   ]
  },
  {
   "cell_type": "code",
   "execution_count": 12,
   "id": "e3035612",
   "metadata": {},
   "outputs": [],
   "source": [
    "X, y = load_breast_cancer(return_X_y=True)\n",
    "lgb_train = lgb.Dataset(X, y, init_score=np.zeros(y.size))\n",
    "train_params = {\n",
    "    'objective': 'binary',\n",
    "    'verbose': -1,\n",
    "    'seed': 123\n",
    "}\n",
    "gbm = lgb.train(train_params, lgb_train, num_boost_round=10)\n",
    "non_weight_err_pred = log_loss(y, gbm.predict(X))\n",
    "refit_weight = np.random.rand(y.shape[0])\n",
    "dataset_params = {\n",
    "    'max_bin': 260,\n",
    "    'min_data_in_bin': 5,\n",
    "    'data_random_seed': 123,\n",
    "}\n",
    "new_gbm = gbm.refit(\n",
    "    data=X,\n",
    "    label=y,\n",
    "    weight=refit_weight,\n",
    "    dataset_params=dataset_params,\n",
    "    decay_rate=0.0,\n",
    ")\n",
    "weight_err_pred = log_loss(y, new_gbm.predict(X))\n",
    "train_set_params = new_gbm.train_set.get_params()\n",
    "stored_weights = new_gbm.train_set.get_weight()\n",
    "assert weight_err_pred != non_weight_err_pred\n",
    "assert train_set_params[\"max_bin\"] == 260\n",
    "assert train_set_params[\"min_data_in_bin\"] == 5\n",
    "assert train_set_params[\"data_random_seed\"] == 123\n",
    "np.testing.assert_allclose(stored_weights, refit_weight)"
   ]
  },
  {
   "cell_type": "code",
   "execution_count": 13,
   "id": "c46b2ca8",
   "metadata": {},
   "outputs": [
    {
     "data": {
      "text/plain": [
       "0.25130293183342284"
      ]
     },
     "execution_count": 13,
     "metadata": {},
     "output_type": "execute_result"
    }
   ],
   "source": [
    "weight_err_pred"
   ]
  },
  {
   "cell_type": "code",
   "execution_count": 14,
   "id": "9891ca42",
   "metadata": {},
   "outputs": [
    {
     "data": {
      "text/plain": [
       "0.2520013338599355"
      ]
     },
     "execution_count": 14,
     "metadata": {},
     "output_type": "execute_result"
    }
   ],
   "source": [
    "non_weight_err_pred"
   ]
  }
 ],
 "metadata": {
  "kernelspec": {
   "display_name": "Python 3 (ipykernel)",
   "language": "python",
   "name": "python3"
  },
  "language_info": {
   "codemirror_mode": {
    "name": "ipython",
    "version": 3
   },
   "file_extension": ".py",
   "mimetype": "text/x-python",
   "name": "python",
   "nbconvert_exporter": "python",
   "pygments_lexer": "ipython3",
   "version": "3.9.7"
  }
 },
 "nbformat": 4,
 "nbformat_minor": 5
}
